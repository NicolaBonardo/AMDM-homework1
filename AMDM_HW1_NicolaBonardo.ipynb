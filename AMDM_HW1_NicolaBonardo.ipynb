{
 "cells": [
  {
   "cell_type": "markdown",
   "metadata": {},
   "source": [
    "# Algorithmic Methods for Data Mining - 2019\n",
    "## Homework 1 - Nicola Bonardo"
   ]
  },
  {
   "cell_type": "markdown",
   "metadata": {},
   "source": [
    "### Problem 1\n",
    "#### Introduction"
   ]
  },
  {
   "cell_type": "markdown",
   "metadata": {},
   "source": [
    "#####  Say \"Hello, World!\" With Python"
   ]
  },
  {
   "cell_type": "code",
   "execution_count": null,
   "metadata": {},
   "outputs": [],
   "source": [
    "print(\"Hello, World!\")"
   ]
  },
  {
   "cell_type": "markdown",
   "metadata": {},
   "source": [
    "##### Python If-Else"
   ]
  },
  {
   "cell_type": "code",
   "execution_count": null,
   "metadata": {},
   "outputs": [],
   "source": [
    "if __name__ == '__main__':\n",
    "    n = int(input().strip())\n",
    "    if n % 2 == 0 and (n < 5 or n > 20):\n",
    "        print(\"Not Weird\")\n",
    "    else:\n",
    "        print(\"Weird\")"
   ]
  },
  {
   "cell_type": "markdown",
   "metadata": {},
   "source": [
    "##### Arithmetic Operators"
   ]
  },
  {
   "cell_type": "code",
   "execution_count": null,
   "metadata": {},
   "outputs": [],
   "source": [
    "a = int(input())\n",
    "b = int(input())\n",
    "print(a+b)\n",
    "print(a-b)\n",
    "print(a*b)"
   ]
  },
  {
   "cell_type": "markdown",
   "metadata": {},
   "source": [
    "##### Python: Division"
   ]
  },
  {
   "cell_type": "code",
   "execution_count": null,
   "metadata": {},
   "outputs": [],
   "source": [
    "a = int(input())\n",
    "b = int(input())\n",
    "print(a//b)\n",
    "print(a/b)"
   ]
  },
  {
   "cell_type": "markdown",
   "metadata": {},
   "source": [
    "##### Loops"
   ]
  },
  {
   "cell_type": "code",
   "execution_count": null,
   "metadata": {},
   "outputs": [],
   "source": [
    "n = int(input())\n",
    "for i in range(0, n):\n",
    "    print(i**2)"
   ]
  },
  {
   "cell_type": "markdown",
   "metadata": {},
   "source": [
    "##### Write a function"
   ]
  },
  {
   "cell_type": "code",
   "execution_count": null,
   "metadata": {},
   "outputs": [],
   "source": [
    "def is_leap(year):\n",
    "    leap = False    \n",
    "    \n",
    "    if year % 4 == 0:\n",
    "        leap = True;\n",
    "        if year % 100 == 0:\n",
    "            leap = False;\n",
    "            if year % 400 == 0:\n",
    "                leap = True;\n",
    "    \n",
    "    return leap\n",
    "\n",
    "year = int(input())\n",
    "print(is_leap(year))"
   ]
  },
  {
   "cell_type": "markdown",
   "metadata": {},
   "source": [
    "##### Print function"
   ]
  },
  {
   "cell_type": "code",
   "execution_count": null,
   "metadata": {},
   "outputs": [],
   "source": [
    "import math\n",
    "\n",
    "n = int(input())\n",
    "s = 0\n",
    "idx = 0\n",
    "for i in range(0, n):\n",
    "    s += int((n - i) * 10 ** idx)        \n",
    "    idx += int((math.floor(math.log10(n - i)) + 1))        \n",
    "print(s)"
   ]
  },
  {
   "cell_type": "markdown",
   "metadata": {},
   "source": [
    "---\n",
    "####  Data Types"
   ]
  },
  {
   "cell_type": "markdown",
   "metadata": {},
   "source": [
    "##### List Comprehensions"
   ]
  },
  {
   "cell_type": "code",
   "execution_count": null,
   "metadata": {},
   "outputs": [],
   "source": [
    "x = int(input())\n",
    "y = int(input())\n",
    "z = int(input())\n",
    "n = int(input())\n",
    "\n",
    "my_list = [ [i, j, k] for i in range(x+1) for j in range(y+1) for k in range(z+1) if i + j + k!= n]\n",
    "print(my_list)"
   ]
  },
  {
   "cell_type": "markdown",
   "metadata": {},
   "source": [
    "##### Find the Runner-Up Score!"
   ]
  },
  {
   "cell_type": "code",
   "execution_count": null,
   "metadata": {},
   "outputs": [],
   "source": [
    "n = int(input())\n",
    "arr = list(map(int, input().split()))    \n",
    "arr.sort(reverse = True)    \n",
    "first = arr[0]\n",
    "i = 1\n",
    "while arr[i] == first:\n",
    "    i += 1\n",
    "print(arr[i])"
   ]
  },
  {
   "cell_type": "markdown",
   "metadata": {},
   "source": [
    "##### Nested Lists"
   ]
  },
  {
   "cell_type": "code",
   "execution_count": null,
   "metadata": {},
   "outputs": [],
   "source": [
    "scores = []\n",
    "score_set = set()\n",
    "for _ in range(int(input())): \n",
    "    name = input() \n",
    "    score = float(input()) \n",
    "    scores.append([name, score])\n",
    "    score_set.add(score)\n",
    "# I searched for a way to sort according to an index\n",
    "# https://www.geeksforgeeks.org/python-sort-list-of-list-by-specified-index/    \n",
    "scores.sort(key = lambda scores : scores[1])\n",
    "\n",
    "second_lowest_found = False\n",
    "scoreToCompare = scores[0][1]\n",
    "names = []\n",
    "\n",
    "for score in scores:\n",
    "    if second_lowest_found == False:\n",
    "        if score[1] != scoreToCompare:\n",
    "            #found the lowest for the first time!\n",
    "            second_lowest_found = True\n",
    "            scoreToCompare = score[1]\n",
    "            names.append(score[0])\n",
    "    elif score[1] == scoreToCompare:\n",
    "        # found another second lowest\n",
    "        names.append(score[0])\n",
    "    else:\n",
    "        #found the third lowest\n",
    "        break \n",
    "\n",
    "# Ordering and output\n",
    "names.sort()    \n",
    "print(*names, sep='\\n')"
   ]
  },
  {
   "cell_type": "markdown",
   "metadata": {},
   "source": [
    "#### Finding the percentage"
   ]
  },
  {
   "cell_type": "code",
   "execution_count": null,
   "metadata": {},
   "outputs": [],
   "source": [
    "n = int(input())\n",
    "student_marks = {}\n",
    "for _ in range(n):\n",
    "    name, *line = input().split()\n",
    "    scores = list(map(float, line))\n",
    "    student_marks[name] = scores\n",
    "query_name = input()\n",
    "\n",
    "marks = student_marks[query_name]\n",
    "\n",
    "i = 0\n",
    "somma = 0\n",
    "for _ in marks:        \n",
    "    somma += marks[i]\n",
    "    i += 1\n",
    "\n",
    "media = somma / i\n",
    "print(\"%.2f\" %media )"
   ]
  },
  {
   "cell_type": "markdown",
   "metadata": {},
   "source": [
    "##### Lists"
   ]
  },
  {
   "cell_type": "code",
   "execution_count": null,
   "metadata": {},
   "outputs": [],
   "source": [
    "N = int(input())\n",
    "my_list = []\n",
    "for _ in range(N):\n",
    "    action, *lista = input().split() \n",
    "    if action == 'insert':\n",
    "        my_list.insert(int(lista[0]), int(lista[1]))        \n",
    "    elif action == 'print':\n",
    "        print(my_list)\n",
    "    elif action == 'remove':\n",
    "        my_list.remove(int(lista[0]))        \n",
    "    elif action == 'append':\n",
    "        my_list.append(int(lista[0]))        \n",
    "    elif action == 'sort':\n",
    "        my_list.sort()        \n",
    "    elif action == 'pop':\n",
    "        my_list.pop()        \n",
    "    elif action == 'reverse':\n",
    "        my_list.reverse()        "
   ]
  },
  {
   "cell_type": "markdown",
   "metadata": {},
   "source": [
    "##### Tuples"
   ]
  },
  {
   "cell_type": "code",
   "execution_count": null,
   "metadata": {},
   "outputs": [],
   "source": [
    "n = int(input())\n",
    "integer_list = map(int, input().split())\n",
    "t = tuple(integer_list)\n",
    "print(hash(t))"
   ]
  },
  {
   "cell_type": "markdown",
   "metadata": {},
   "source": [
    "---\n",
    "#### Strings\n",
    "##### sWAP cASE"
   ]
  },
  {
   "cell_type": "code",
   "execution_count": null,
   "metadata": {},
   "outputs": [],
   "source": [
    "def swap_case(s):\n",
    "    k = \"\"    \n",
    "    for c in s:\n",
    "        if c.islower():\n",
    "            k += c.upper()\n",
    "        else:\n",
    "            k += c.lower()\n",
    "    return k\n",
    "\n",
    "if __name__ == '__main__':\n",
    "    s = input()\n",
    "    result = swap_case(s)\n",
    "    print(result)"
   ]
  },
  {
   "cell_type": "markdown",
   "metadata": {},
   "source": [
    "##### String Split and Join"
   ]
  },
  {
   "cell_type": "code",
   "execution_count": null,
   "metadata": {},
   "outputs": [],
   "source": [
    "def split_and_join(line):\n",
    "    return \"-\".join(line.split())\n",
    "\n",
    "if __name__ == '__main__':\n",
    "    line = input()\n",
    "    result = split_and_join(line)\n",
    "    print(result)"
   ]
  },
  {
   "cell_type": "markdown",
   "metadata": {},
   "source": [
    "##### What's Your Name?"
   ]
  },
  {
   "cell_type": "code",
   "execution_count": null,
   "metadata": {},
   "outputs": [],
   "source": [
    "def print_full_name(a, b):\n",
    "    str = \"Hello \" + a +  \" \" + b + \"! You just delved into python.\"\n",
    "    print(str)\n",
    "\n",
    "if __name__ == '__main__':\n",
    "    first_name = input()\n",
    "    last_name = input()\n",
    "    print_full_name(first_name, last_name)"
   ]
  },
  {
   "cell_type": "markdown",
   "metadata": {},
   "source": [
    "##### Mutations"
   ]
  },
  {
   "cell_type": "code",
   "execution_count": null,
   "metadata": {},
   "outputs": [],
   "source": [
    "def mutate_string(string, position, character):    \n",
    "    return string[:position] + character + string[position + 1:]\n",
    "\n",
    "if __name__ == '__main__':\n",
    "    s = input()\n",
    "    i, c = input().split()\n",
    "    s_new = mutate_string(s, int(i), c)\n",
    "    print(s_new)"
   ]
  },
  {
   "cell_type": "markdown",
   "metadata": {},
   "source": [
    "##### Find a string"
   ]
  },
  {
   "cell_type": "code",
   "execution_count": null,
   "metadata": {},
   "outputs": [],
   "source": [
    "def count_substring(string, sub_string):\n",
    "    count = 0\n",
    "    l_str = len(string)\n",
    "    l_sub = len(sub_string)\n",
    "\n",
    "    for i in range(0, l_str - l_sub + 1):                \n",
    "        if string[i:i+l_sub] == sub_string:\n",
    "            count += 1\n",
    "    \n",
    "    return count\n",
    "\n",
    "if __name__ == '__main__':\n",
    "    string = input().strip()\n",
    "    sub_string = input().strip()\n",
    "    \n",
    "    count = count_substring(string, sub_string)\n",
    "    print(count)"
   ]
  },
  {
   "cell_type": "markdown",
   "metadata": {},
   "source": [
    "##### String Validators"
   ]
  },
  {
   "cell_type": "code",
   "execution_count": null,
   "metadata": {},
   "outputs": [],
   "source": [
    "hasAlnum = False\n",
    "hasAlpha = False\n",
    "hasDigit = False \n",
    "hasLower = False\n",
    "hasUpper = False\n",
    "\n",
    "s = input()\n",
    "for c in s:\n",
    "    hasAlnum |= c.isalnum()\n",
    "    hasAlpha |= c.isalpha()\n",
    "    hasDigit |= c.isdigit()\n",
    "    hasLower |= c.islower()\n",
    "    hasUpper |= c.isupper()\n",
    "\n",
    "print(hasAlnum, hasAlpha, hasDigit, hasLower, hasUpper, sep='\\n')"
   ]
  },
  {
   "cell_type": "markdown",
   "metadata": {},
   "source": [
    "##### Text Alignment"
   ]
  },
  {
   "cell_type": "code",
   "execution_count": null,
   "metadata": {},
   "outputs": [],
   "source": [
    "thickness = int(input()) #This must be an odd number\n",
    "c = 'H'\n",
    "\n",
    "#Top Cone\n",
    "for i in range(thickness):\n",
    "    print((c*i).rjust(thickness-1)+c+(c*i).ljust(thickness-1))\n",
    "\n",
    "#Top Pillars\n",
    "for i in range(thickness+1):\n",
    "    print((c*thickness).center(thickness*2)+(c*thickness).center(thickness*6))\n",
    "\n",
    "#Middle Belt\n",
    "for i in range((thickness+1)//2):\n",
    "    print((c*thickness*5).center(thickness*6))    \n",
    "\n",
    "#Bottom Pillars\n",
    "for i in range(thickness+1):\n",
    "    print((c*thickness).center(thickness*2)+(c*thickness).center(thickness*6))    \n",
    "\n",
    "#Bottom Cone\n",
    "for i in range(thickness):\n",
    "    print(((c*(thickness-i-1)).rjust(thickness)+c+(c*(thickness-i-1)).ljust(thickness)).rjust(thickness*6))"
   ]
  },
  {
   "cell_type": "markdown",
   "metadata": {},
   "source": [
    "##### Text Wrap"
   ]
  },
  {
   "cell_type": "code",
   "execution_count": null,
   "metadata": {},
   "outputs": [],
   "source": [
    "import textwrap\n",
    "\n",
    "def wrap(string, max_width):    \n",
    "    wrapped = textwrap.wrap(string, max_width)\n",
    "    return '\\n'.join(wrapped)\n",
    "\n",
    "if __name__ == '__main__':\n",
    "    string, max_width = input(), int(input())\n",
    "    result = wrap(string, max_width)\n",
    "    print(result)"
   ]
  },
  {
   "cell_type": "markdown",
   "metadata": {},
   "source": [
    "##### Designer Door Mat"
   ]
  },
  {
   "cell_type": "code",
   "execution_count": null,
   "metadata": {},
   "outputs": [],
   "source": [
    "N, M = map(int, input().split())\n",
    "# upper section\n",
    "for i in range(0, (N-1)//2):\n",
    "    nDec = 2*i + 1\n",
    "    nTra = (M - 3 * nDec) // 2\n",
    "    ln = nTra * '-'\n",
    "    ln += (nDec * '.|.')\n",
    "    ln += nTra * '-'\n",
    "    print(ln)\n",
    "\n",
    "# central line\n",
    "ln = '-' *((M-7) // 2) + 'WELCOME' + ('-' * ((M-7) // 2))\n",
    "print(ln)\n",
    "\n",
    "# lower section\n",
    "for i in range(0, (N-1)//2):\n",
    "    j = (N-1)//2 - 1 -i\n",
    "    nDec = 2*j + 1\n",
    "    nTra = (M - 3 * nDec) // 2\n",
    "    ln = nTra * '-'\n",
    "    ln += (nDec * '.|.')\n",
    "    ln += nTra * '-'\n",
    "    print(ln)"
   ]
  },
  {
   "cell_type": "markdown",
   "metadata": {},
   "source": [
    "##### String Formatting"
   ]
  },
  {
   "cell_type": "code",
   "execution_count": null,
   "metadata": {},
   "outputs": [],
   "source": [
    "def print_formatted(number):\n",
    "    # max length \n",
    "    l = len(str(bin(number).lstrip('0b')))\n",
    "\n",
    "    for n in range(1, number + 1):  \n",
    "        # each time I print with a different basse, with width w, right aligned     \n",
    "        print(\"{0:>{w}d} {0:>{w}o} {0:>{w}X} {0:>{w}b}\".format(n, w=l), end='')\n",
    "        if (n <= number):\n",
    "            print()        \n",
    "\n",
    "if __name__ == '__main__':\n",
    "    n = int(input())\n",
    "    print_formatted(n)"
   ]
  },
  {
   "cell_type": "markdown",
   "metadata": {},
   "source": [
    "##### Capitalize!"
   ]
  },
  {
   "cell_type": "code",
   "execution_count": null,
   "metadata": {},
   "outputs": [],
   "source": [
    "def solve(s):\n",
    "    m_str = \"\"\n",
    "    for word in s.split():\n",
    "        m_str += (word.capitalize() + \" \")\n",
    "    return m_str\n",
    "\n",
    "if __name__ == '__main__':\n",
    "    # I commented out fptr used in HackerRank and used a print instead, for the Jupyter notebook\n",
    "    # fptr = open(os.environ['OUTPUT_PATH'], 'w')\n",
    "    s = input()\n",
    "    result = solve(s)\n",
    "    print(result)\n",
    "    #fptr.write(result + '\\n')\n",
    "    #fptr.close()"
   ]
  },
  {
   "cell_type": "markdown",
   "metadata": {},
   "source": [
    "##### The Minion Game"
   ]
  },
  {
   "cell_type": "code",
   "execution_count": null,
   "metadata": {},
   "outputs": [],
   "source": [
    "def minion_game(string):    \n",
    "    n = len(string)\n",
    "    vowels = {'A', 'E', 'I', 'O', 'U'}\n",
    "    Stuart = 0\n",
    "    Kevin = 0\n",
    "\n",
    "    # since only the first letter of each word determines whether Kevin or Stuart \n",
    "    # will get the point, I just check first letter of every possible substring.\n",
    "    # Multiple occurrences of a substring are automatically considered \n",
    "    # e.g. \"A\" will be cycled three times.\n",
    "\n",
    "    # for i in range(n):        \n",
    "    #     for j in range(n - i):            \n",
    "    #         word = string[j:j+1]        \n",
    "    #         if word[0] in vowels:\n",
    "    #             Kevin += 1\n",
    "    #         else:\n",
    "    #             Stuart += 1\n",
    "\n",
    "    # Improved algorithm - every letter counts as many times as the distance from the end\n",
    "    # of the word; e.g. B in BANANA counts for B, BA, BAN, BANA, BANAN and BANANA.\n",
    "    for i in range(n):\n",
    "        if string[i] in vowels:\n",
    "            Kevin += n - i\n",
    "        else:\n",
    "            Stuart += n - i\n",
    "    \n",
    "    if Kevin > Stuart:\n",
    "        print(\"Kevin\", Kevin)\n",
    "    elif Stuart > Kevin: \n",
    "        print(\"Stuart\", Stuart)\n",
    "    else:\n",
    "        print(\"Draw\")\n",
    "\n",
    "if __name__ == '__main__':\n",
    "    s = input()\n",
    "    minion_game(s)"
   ]
  },
  {
   "cell_type": "markdown",
   "metadata": {},
   "source": [
    "##### Merge the Tools!"
   ]
  },
  {
   "cell_type": "code",
   "execution_count": null,
   "metadata": {},
   "outputs": [],
   "source": [
    "def merge_the_tools(string, k):    \n",
    "\n",
    "    for i in range(len(string)//k):\n",
    "        sub = string[i*k:(i+1)*k]        \n",
    "        newSub = list()\n",
    "        for c in sub:\n",
    "            if c not in newSub:\n",
    "                newSub.append(c)\n",
    "        print(''.join(newSub))\n",
    "\n",
    "string, k = input(), int(input())\n",
    "merge_the_tools(string, k)"
   ]
  },
  {
   "cell_type": "markdown",
   "metadata": {},
   "source": [
    "---\n",
    "#### Sets\n",
    "###### Introduction to sets"
   ]
  },
  {
   "cell_type": "code",
   "execution_count": null,
   "metadata": {},
   "outputs": [],
   "source": [
    "def average(array):\n",
    "    # creation of a set to eliminate duplicates\n",
    "    m_set = set(array)\n",
    "    count = 0\n",
    "    m_sum = 0\n",
    "    for n in m_set:\n",
    "        m_sum += n\n",
    "        count += 1\n",
    "    \n",
    "    avg = m_sum / count\n",
    "    return avg \n",
    "\n",
    "if __name__ == '__main__':\n",
    "    n = int(input())\n",
    "    arr = list(map(int, input().split()))\n",
    "    result = average(arr)\n",
    "    print(result)"
   ]
  },
  {
   "cell_type": "markdown",
   "metadata": {},
   "source": [
    "##### No Idea!"
   ]
  },
  {
   "cell_type": "code",
   "execution_count": null,
   "metadata": {},
   "outputs": [],
   "source": [
    "input()\n",
    "\n",
    "arr = input().split()\n",
    "A = set(input().split())\n",
    "B = set(input().split())\n",
    "\n",
    "h = 0\n",
    "\n",
    "for elem in arr:\n",
    "    if elem in A:\n",
    "        h += 1\n",
    "    elif elem in B:\n",
    "        h -= 1\n",
    "\n",
    "print(h)"
   ]
  },
  {
   "cell_type": "markdown",
   "metadata": {},
   "source": [
    "##### Symmetric Difference"
   ]
  },
  {
   "cell_type": "code",
   "execution_count": null,
   "metadata": {},
   "outputs": [],
   "source": [
    "N1 = input()\n",
    "set1 = set(list(map(int, input().split())))\n",
    "\n",
    "N2 = input()\n",
    "set2 = set(list(map(int, input().split())))\n",
    "\n",
    "list1 = list(set1 ^ set2)\n",
    "list1.sort()\n",
    "\n",
    "for n in list1:\n",
    "    print(n)"
   ]
  },
  {
   "cell_type": "markdown",
   "metadata": {},
   "source": [
    "##### Set .add()"
   ]
  },
  {
   "cell_type": "code",
   "execution_count": null,
   "metadata": {},
   "outputs": [],
   "source": [
    "N = int(input())\n",
    "s = set()\n",
    "\n",
    "for i in range(0, N):\n",
    "    s.add(input())    \n",
    "\n",
    "print(len(s))"
   ]
  },
  {
   "cell_type": "markdown",
   "metadata": {},
   "source": [
    "##### Set .discard(), .remove() & .pop()"
   ]
  },
  {
   "cell_type": "code",
   "execution_count": null,
   "metadata": {},
   "outputs": [],
   "source": [
    "n_interi = int(input())\n",
    "s = set(map(int, input().split()))\n",
    "\n",
    "N_op = int(input())\n",
    "\n",
    "for i in range(0, N_op):\n",
    "    op = input()\n",
    "    if op == \"pop\" and len(s) > 0:\n",
    "        num = s.pop()                \n",
    "    else:        \n",
    "        op, num = op.split()\n",
    "        num = int(num)\n",
    "        if op == \"remove\" and num in s:\n",
    "            s.remove(num)                       \n",
    "        elif op == \"discard\":\n",
    "            s.discard(num)\n",
    "print(sum(s))"
   ]
  },
  {
   "cell_type": "markdown",
   "metadata": {},
   "source": [
    "##### Set .union() Operation"
   ]
  },
  {
   "cell_type": "code",
   "execution_count": null,
   "metadata": {},
   "outputs": [],
   "source": [
    "input()\n",
    "n1 = set(input().split())\n",
    "input()\n",
    "n2 = set(input().split())\n",
    "print(len(n1|n2))"
   ]
  },
  {
   "cell_type": "markdown",
   "metadata": {},
   "source": [
    "##### Set .intersection() Operation"
   ]
  },
  {
   "cell_type": "code",
   "execution_count": null,
   "metadata": {},
   "outputs": [],
   "source": [
    "input()\n",
    "n1 = set(input().split())\n",
    "input()\n",
    "n2 = set(input().split())\n",
    "print(len(n1&n2))"
   ]
  },
  {
   "cell_type": "markdown",
   "metadata": {},
   "source": [
    "##### Set .difference() Operation"
   ]
  },
  {
   "cell_type": "code",
   "execution_count": null,
   "metadata": {},
   "outputs": [],
   "source": [
    "input()\n",
    "n1 = set(input().split())\n",
    "input()\n",
    "n2 = set(input().split())\n",
    "print(len(n1-n2))"
   ]
  },
  {
   "cell_type": "markdown",
   "metadata": {},
   "source": [
    "##### Set .symmetric_difference() Operation"
   ]
  },
  {
   "cell_type": "code",
   "execution_count": null,
   "metadata": {},
   "outputs": [],
   "source": [
    "input()\n",
    "n1 = set(input().split())\n",
    "input()\n",
    "n2 = set(input().split())\n",
    "print(len(n1^n2))"
   ]
  },
  {
   "cell_type": "markdown",
   "metadata": {},
   "source": [
    "##### Set Mutations"
   ]
  },
  {
   "cell_type": "code",
   "execution_count": null,
   "metadata": {},
   "outputs": [],
   "source": [
    "input() # number of elements of the initial set - ignored\n",
    "A = set(input().split()) # initial set\n",
    "N = int(input()) # number of other sets\n",
    "\n",
    "for i in range(0, N):\n",
    "    op, num = input().split()\n",
    "    B = set(input().split()) # new set\n",
    "    if op == \"intersection_update\":\n",
    "        A &= B\n",
    "    elif op == \"update\":\n",
    "        A |= B\n",
    "    elif op == \"symmetric_difference_update\":\n",
    "        A ^= B\n",
    "    elif op == \"difference_update\":\n",
    "        A -= B\n",
    "\n",
    "S = list(map(int, A))\n",
    "print(sum(S))"
   ]
  },
  {
   "cell_type": "markdown",
   "metadata": {},
   "source": [
    "##### The Captain's Room"
   ]
  },
  {
   "cell_type": "code",
   "execution_count": null,
   "metadata": {},
   "outputs": [],
   "source": [
    "k = int(input()) \n",
    "arr = input().split()\n",
    "arr.sort()\n",
    "\n",
    "capt_room = 0\n",
    "for i in range(0, len(arr) - k, k):\n",
    "    # I will compare couples of room numbers at distance k    \n",
    "    if arr[i] != arr[i + k - 1]:        \n",
    "        # found the single occurrence\n",
    "        capt_room = arr[i]\n",
    "        break  \n",
    "    \n",
    "if capt_room == 0:\n",
    "    # if not found in the compares, the room must be the last in the array\n",
    "    capt_room = arr[-1]\n",
    "\n",
    "print(capt_room)"
   ]
  },
  {
   "cell_type": "markdown",
   "metadata": {},
   "source": [
    "##### Check Subset"
   ]
  },
  {
   "cell_type": "code",
   "execution_count": null,
   "metadata": {},
   "outputs": [],
   "source": [
    "N_Test = int(input())\n",
    "\n",
    "for i in range(0, N_Test):\n",
    "    input()\n",
    "    A = set(input().split())\n",
    "    input() \n",
    "    B = set(input().split())\n",
    "    isSubset = True\n",
    "    # check that each element of A is in B\n",
    "    for el in A:\n",
    "        if el not in B:\n",
    "            isSubset = False\n",
    "    print(isSubset)"
   ]
  },
  {
   "cell_type": "markdown",
   "metadata": {},
   "source": [
    "##### Check Strict Superset"
   ]
  },
  {
   "cell_type": "code",
   "execution_count": null,
   "metadata": {},
   "outputs": [],
   "source": [
    "S = set(input().split()) # set that must be superset\n",
    "N = int(input()) # number of other sets to be tested\n",
    "\n",
    "isStrictSuperset = True\n",
    "for i in range(0, N):\n",
    "    B = set(input().split())    \n",
    "    # in order for A to be strict superset, B must be in S and the diff must be not null\n",
    "    isStrictSuperset &= (B & S == B and len(S - B) > 0)\n",
    "    \n",
    "print(isStrictSuperset)"
   ]
  },
  {
   "cell_type": "markdown",
   "metadata": {},
   "source": [
    "---\n",
    "### Collections\n",
    "##### collections.Counter()"
   ]
  },
  {
   "cell_type": "code",
   "execution_count": null,
   "metadata": {},
   "outputs": [],
   "source": [
    "input() # ignored data\n",
    "shoes = input().split()\n",
    "\n",
    "N_clients = int(input()) # number of clients\n",
    "amount = 0\n",
    "\n",
    "for i in range(0, N_clients):\n",
    "    data = input().split()\n",
    "    if data[0] in shoes:        \n",
    "        amount += int(data[1])\n",
    "        shoes.remove(data[0])\n",
    "\n",
    "print(amount)"
   ]
  },
  {
   "cell_type": "markdown",
   "metadata": {},
   "source": [
    "##### DefaultDict Tutorial"
   ]
  },
  {
   "cell_type": "code",
   "execution_count": null,
   "metadata": {},
   "outputs": [],
   "source": [
    "from collections import defaultdict\n",
    "\n",
    "n, m = map(int, input().split())\n",
    "\n",
    "# I build a 'default dictionary' with the index occurrencies of each word in group 'A'\n",
    "listA = defaultdict(list)\n",
    "for i in range(n):    \n",
    "    listA[input()].append(i + 1)    \n",
    "\n",
    "# for each word in group 'B' I print the list of occurrencies of that word in group 'A'\n",
    "# if word never occurred, the dictionary value for that key will be an empty list\n",
    "for j in range(m):\n",
    "    w_list = listA[input()]\n",
    "    if len(w_list) > 0:\n",
    "        print(*w_list)\n",
    "    else:\n",
    "        print(-1)"
   ]
  },
  {
   "cell_type": "markdown",
   "metadata": {},
   "source": [
    "##### Collections.namedtuple()"
   ]
  },
  {
   "cell_type": "code",
   "execution_count": null,
   "metadata": {},
   "outputs": [],
   "source": [
    "# I used https://pymotw.com/2/collections/namedtuple.html to understand better namedtuples\n",
    "\n",
    "from collections import namedtuple\n",
    "N = int(input())\n",
    "\n",
    "# Definition of a namedtuple 'Student' using as field names the 2nd line of input\n",
    "student = namedtuple('Student', input())\n",
    "\n",
    "m_sum = 0\n",
    "# Creation of a student from input, retrieving of his score, summation\n",
    "for i in range(N): m_sum += int(student(*(input().split())).MARKS)\n",
    "\n",
    "print(\"%.2f\" % (m_sum / N))"
   ]
  },
  {
   "cell_type": "markdown",
   "metadata": {},
   "source": [
    "##### Collections.OrderedDict()"
   ]
  },
  {
   "cell_type": "code",
   "execution_count": null,
   "metadata": {},
   "outputs": [],
   "source": [
    "from collections import OrderedDict\n",
    "\n",
    "m_dict = OrderedDict()\n",
    "\n",
    "for i in range(int(input())):\n",
    "    arr = input().split()\n",
    "    prod_name = ' '.join(arr[:-1])\n",
    "    price = int(arr[-1]) \n",
    "\n",
    "    # if the element is already in the dict, I sum the price\n",
    "    m_dict[prod_name] = m_dict.get(prod_name, 0) + price\n",
    "\n",
    "for word in m_dict:\n",
    "    print(word, m_dict[word])"
   ]
  },
  {
   "cell_type": "markdown",
   "metadata": {},
   "source": [
    "##### Word Order"
   ]
  },
  {
   "cell_type": "code",
   "execution_count": null,
   "metadata": {},
   "outputs": [],
   "source": [
    "from collections import OrderedDict\n",
    "\n",
    "m_dict = OrderedDict()\n",
    "\n",
    "for i in range(int(input())):\n",
    "    word = input()\n",
    "    m_dict[word] = m_dict.get(word, 0) + 1    \n",
    "\n",
    "print(len(m_dict))\n",
    "print(*m_dict.values())"
   ]
  },
  {
   "cell_type": "markdown",
   "metadata": {},
   "source": [
    "##### Collections.deque()"
   ]
  },
  {
   "cell_type": "code",
   "execution_count": null,
   "metadata": {},
   "outputs": [],
   "source": [
    "from collections import deque\n",
    "\n",
    "N = int(input())\n",
    "\n",
    "d = deque()\n",
    "com = []\n",
    "\n",
    "for i in range(0, N):\n",
    "    com = input().split()\n",
    "    if com[0] == 'append':\n",
    "        d.append(com[1])\n",
    "    elif com[0] == 'appendleft':\n",
    "        d.appendleft(com[1])\n",
    "    elif com[0] == 'pop':\n",
    "        d.pop() \n",
    "    elif com[0] == 'popleft':\n",
    "        d.popleft() \n",
    "\n",
    "print(*d)"
   ]
  },
  {
   "cell_type": "markdown",
   "metadata": {},
   "source": [
    "##### Company Logo"
   ]
  },
  {
   "cell_type": "code",
   "execution_count": null,
   "metadata": {},
   "outputs": [],
   "source": [
    "# I found info about Counter in https://pymotw.com/2/collections/counter.html\n",
    "from collections import Counter\n",
    "alphabet = 'zyxwvutsrqponmlkjihgfedcba'\n",
    "\n",
    "if __name__ == '__main__':\n",
    "    # creation of a counter containing the input string     \n",
    "    c = Counter(*input().split()) \n",
    "\n",
    "    # sorting of the items of the counter \n",
    "    # since len(S) <= 10^4, multiplying the occurrence of a letter by 10^4 and then\n",
    "    # adding the index in decreasing order of the alphabet creates a two-level sorting\n",
    "    s = sorted(c.items(), key = lambda i : 10000 * i[1] + alphabet.index(i[0]), reverse = True)\n",
    "\n",
    "    # output for the first three most common letters\n",
    "    for pair in s[:3]:\n",
    "        print(pair[0], pair[1])"
   ]
  },
  {
   "cell_type": "markdown",
   "metadata": {},
   "source": [
    "---\n",
    "#### Date and Time\n",
    "##### Calendar Module"
   ]
  },
  {
   "cell_type": "code",
   "execution_count": null,
   "metadata": {},
   "outputs": [],
   "source": [
    "import calendar\n",
    "\n",
    "mese, giorno, anno = map(int, input().split())\n",
    "\n",
    "day = calendar.weekday(anno, mese, giorno)\n",
    "\n",
    "print(calendar.day_name[day].upper())"
   ]
  },
  {
   "cell_type": "markdown",
   "metadata": {},
   "source": [
    "---\n",
    "#### Exceptions"
   ]
  },
  {
   "cell_type": "code",
   "execution_count": null,
   "metadata": {},
   "outputs": [],
   "source": [
    "for _ in range(int(input())):\n",
    "    a, b = input().split()\n",
    "    try:\n",
    "        c = int(a) // int(b)\n",
    "        print(c)\n",
    "    except ZeroDivisionError as e:\n",
    "        print(\"Error Code:\",e)\n",
    "    except ValueError as e:\n",
    "        print(\"Error Code:\",e)"
   ]
  },
  {
   "cell_type": "markdown",
   "metadata": {},
   "source": [
    "---\n",
    "#### Built-ins"
   ]
  },
  {
   "cell_type": "markdown",
   "metadata": {},
   "source": [
    "##### Zipped!"
   ]
  },
  {
   "cell_type": "code",
   "execution_count": null,
   "metadata": {},
   "outputs": [],
   "source": [
    "N, X = map(int, input().split())\n",
    "\n",
    "# getting all the marks for all the students\n",
    "sheet = [ map(float, input().split()) for _ in range(X)]\n",
    "\n",
    "# using zip to create tuples of marks for each student\n",
    "marks = zip(*sheet)\n",
    "\n",
    "# printing the average mark for each student\n",
    "for student_marks in marks:\n",
    "    print(sum(student_marks) / len(student_marks))"
   ]
  },
  {
   "cell_type": "markdown",
   "metadata": {},
   "source": [
    "##### Athlete Sort (python-sort-sort)"
   ]
  },
  {
   "cell_type": "code",
   "execution_count": null,
   "metadata": {},
   "outputs": [],
   "source": [
    "n, m = map(int, input().split())  \n",
    "arr = []\n",
    "\n",
    "for _ in range(n):\n",
    "    arr.append(list(map(int, input().rstrip().split())))\n",
    "\n",
    "k = int(input())\n",
    "arr.sort(key= lambda athlete : athlete[k])\n",
    "\n",
    "for athlete in arr:\n",
    "    print(*athlete) "
   ]
  },
  {
   "cell_type": "markdown",
   "metadata": {},
   "source": [
    "##### ginortS"
   ]
  },
  {
   "cell_type": "code",
   "execution_count": null,
   "metadata": {},
   "outputs": [],
   "source": [
    "string = input()\n",
    "\n",
    "upper = []\n",
    "lower = []\n",
    "even = []\n",
    "odd = []\n",
    "\n",
    "for char in string:\n",
    "    if char.isupper():\n",
    "        upper.append(char)        \n",
    "    elif char.islower():\n",
    "        lower.append(char)        \n",
    "    elif char.isdigit():        \n",
    "        if int(char) % 2 == 0:\n",
    "            even.append(char)\n",
    "        else:\n",
    "            odd.append(char)\n",
    "\n",
    "lower.sort()\n",
    "upper.sort() \n",
    "odd.sort() \n",
    "even.sort()  \n",
    "\n",
    "ginortS = lower + upper + odd + even \n",
    "print(''.join(ginortS))"
   ]
  },
  {
   "cell_type": "markdown",
   "metadata": {},
   "source": [
    "---\n",
    "#### Python Functionals\n",
    "##### Map and Lambda Function"
   ]
  },
  {
   "cell_type": "code",
   "execution_count": null,
   "metadata": {},
   "outputs": [],
   "source": [
    "cube = lambda x: x**3 # complete the lambda function \n",
    "\n",
    "def fibonacci(n):\n",
    "    # return a list of fibonacci numbers\n",
    "    f = list()\n",
    "    if n > 0:\n",
    "        f.append(0)\n",
    "    if n > 1:\n",
    "        f.append(1)\n",
    "    if n > 2:\n",
    "        for i in range(2, n):\n",
    "            f.append(f[i - 1] + f[i - 2])\n",
    "    return f\n",
    "\n",
    "if __name__ == '__main__':\n",
    "    n = int(input())\n",
    "    print(list(map(cube, fibonacci(n))))"
   ]
  },
  {
   "cell_type": "markdown",
   "metadata": {},
   "source": [
    "---\n",
    "#### Regex and Parsing Challenges"
   ]
  },
  {
   "cell_type": "markdown",
   "metadata": {},
   "source": [
    "##### Re.split()"
   ]
  },
  {
   "cell_type": "code",
   "execution_count": null,
   "metadata": {},
   "outputs": [],
   "source": [
    "regex_pattern = r\"[\\.,]\"\n",
    "\n",
    "import re\n",
    "print(\"\\n\".join(re.split(regex_pattern, input())))"
   ]
  },
  {
   "cell_type": "markdown",
   "metadata": {},
   "source": [
    "##### Validating phone numbers"
   ]
  },
  {
   "cell_type": "code",
   "execution_count": null,
   "metadata": {},
   "outputs": [],
   "source": [
    "import re\n",
    "exp = r'^[789]{1}\\d{9}$'\n",
    "\n",
    "for i in range(int(input())):\n",
    "    str = input()\n",
    "    match = re.search(exp, str)\n",
    "    if match:\n",
    "        print(\"YES\")\n",
    "    else:\n",
    "        print(\"NO\")"
   ]
  },
  {
   "cell_type": "markdown",
   "metadata": {},
   "source": [
    "##### Validating UID"
   ]
  },
  {
   "cell_type": "code",
   "execution_count": null,
   "metadata": {},
   "outputs": [],
   "source": [
    "import re\n",
    "\n",
    "pattern1 = r'\\d\\w*\\d\\w*\\d'\n",
    "pattern2 = r'[A-Z]\\w*[A-Z]'\n",
    "\n",
    "def checkIfValid(uid):\n",
    "    # checking if there are at least 3 digits and 2 uppercase letters:\n",
    "    match1 = re.search(pattern1, uid)\n",
    "    match2 = re.search(pattern2, uid)    \n",
    "\n",
    "    isValid = match1 and match2    \n",
    "\n",
    "    # FURTHERMORE there must be 10 characters \n",
    "    # AND they must be distinct (using a SET to eliminate duplicates)\n",
    "    # AND they must be alphanumeric \n",
    "    isValid = isValid and len(uid) == 10 and len({*uid}) == 10 and uid.isalnum()  \n",
    "    \n",
    "    return(isValid)\n",
    "\n",
    "N = int(input())\n",
    "\n",
    "for _ in range(N):\n",
    "    if checkIfValid(input()):\n",
    "        print(\"Valid\")\n",
    "    else:\n",
    "        print(\"Invalid\")"
   ]
  },
  {
   "cell_type": "markdown",
   "metadata": {},
   "source": [
    "---\n",
    "#### XML\n",
    "##### XML 1 - Find the Score"
   ]
  },
  {
   "cell_type": "code",
   "execution_count": null,
   "metadata": {},
   "outputs": [],
   "source": [
    "import sys\n",
    "import xml.etree.ElementTree as etree\n",
    "\n",
    "def get_attr_number(node):   \n",
    "    \n",
    "    n = len(node.attrib)    \n",
    "    for child in node: \n",
    "        n += get_attr_number(child)\n",
    "    return(n)    \n",
    "\n",
    "if __name__ == '__main__':\n",
    "    sys.stdin.readline()\n",
    "    xml = sys.stdin.read()\n",
    "    tree = etree.ElementTree(etree.fromstring(xml))\n",
    "    root = tree.getroot()\n",
    "    print(get_attr_number(root))"
   ]
  },
  {
   "cell_type": "markdown",
   "metadata": {},
   "source": [
    "---\n",
    "#### Numpy\n",
    "##### Arrays"
   ]
  },
  {
   "cell_type": "code",
   "execution_count": null,
   "metadata": {},
   "outputs": [],
   "source": [
    "import numpy\n",
    "\n",
    "def arrays(arr):       \n",
    "    # reversing the original array\n",
    "    arr.reverse()\n",
    "    # building of a numpy array,\n",
    "    return(numpy.array(arr, float))\n",
    "\n",
    "arr = input().strip().split(' ')\n",
    "result = arrays(arr)\n",
    "print(result)"
   ]
  },
  {
   "cell_type": "markdown",
   "metadata": {},
   "source": [
    "##### Shape and Reshape"
   ]
  },
  {
   "cell_type": "code",
   "execution_count": null,
   "metadata": {},
   "outputs": [],
   "source": [
    "import numpy as np\n",
    "\n",
    "# creation of the numpy 1d-array\n",
    "a = np.array(input().split(), int)\n",
    "\n",
    "# reshaping towards 3x3\n",
    "print(np.reshape(a, (3,3)))"
   ]
  },
  {
   "cell_type": "markdown",
   "metadata": {},
   "source": [
    "##### Transpose and Flatten"
   ]
  },
  {
   "cell_type": "code",
   "execution_count": null,
   "metadata": {},
   "outputs": [],
   "source": [
    "import numpy\n",
    "N, M = map(int, input().split())\n",
    "\n",
    "mat = []\n",
    "for _ in range(N):   \n",
    "    # creation of an array of arrays, one for each line in input \n",
    "    mat.append(input().split()) \n",
    "\n",
    "# creation of a numpy array\n",
    "arr = numpy.array(mat, int)\n",
    "\n",
    "# output of the transpose and flattened version using numpy\n",
    "print(numpy.transpose(arr), arr.flatten(), sep='\\n')"
   ]
  },
  {
   "cell_type": "markdown",
   "metadata": {},
   "source": [
    "##### Concatenate"
   ]
  },
  {
   "cell_type": "code",
   "execution_count": null,
   "metadata": {},
   "outputs": [],
   "source": [
    "import numpy\n",
    "\n",
    "N, M, P = map(int, input().split())\n",
    "\n",
    "mat1 = []\n",
    "for _ in range(N):\n",
    "    # creation of first matrix\n",
    "    mat1.append(input().split())\n",
    "\n",
    "mat2 = []\n",
    "for _ in range(M):\n",
    "    # creation of second matrix\n",
    "    mat2.append(input().split()) \n",
    "\n",
    "# creation of the 2 numpy arrays\n",
    "arr1 = numpy.array(mat1, int) \n",
    "arr2 = numpy.array(mat2, int) \n",
    "\n",
    "# output using concatenate - axis 0 is default\n",
    "print(numpy.concatenate((arr1, arr2)))"
   ]
  },
  {
   "cell_type": "markdown",
   "metadata": {},
   "source": [
    "##### Zeros and Ones"
   ]
  },
  {
   "cell_type": "code",
   "execution_count": null,
   "metadata": {},
   "outputs": [],
   "source": [
    "import numpy\n",
    "\n",
    "t = tuple(map(int, input().split()))\n",
    "\n",
    "print(numpy.zeros(t, dtype = numpy.int))\n",
    "print(numpy.ones(t, dtype = numpy.int))"
   ]
  },
  {
   "cell_type": "markdown",
   "metadata": {},
   "source": [
    "##### Eye and Identity"
   ]
  },
  {
   "cell_type": "code",
   "execution_count": null,
   "metadata": {},
   "outputs": [],
   "source": [
    "import numpy\n",
    "numpy.set_printoptions(legacy='1.13')\n",
    "# I found this setting in the discussion section, because my output wouldn't match \n",
    "# the one expected by the author of the problem\n",
    "\n",
    "N, M = map(int, input().split()) \n",
    "\n",
    "print(numpy.eye(N, M, k = 0))"
   ]
  },
  {
   "cell_type": "markdown",
   "metadata": {},
   "source": [
    "##### Array Mathematics"
   ]
  },
  {
   "cell_type": "code",
   "execution_count": null,
   "metadata": {},
   "outputs": [],
   "source": [
    "import numpy as np \n",
    "\n",
    "# getting N and M from input\n",
    "N, M = map(int, input().split()) \n",
    "\n",
    "# construction of the 2 NxM matrixes A and B\n",
    "matA = []\n",
    "matB = []\n",
    "for _ in range(N):\n",
    "    matA.append(input().split()) \n",
    "\n",
    "for _ in range(N):\n",
    "    matB.append(input().split()) \n",
    "\n",
    "# construction of numpy arrays a and b\n",
    "a = np.array(matA, int) \n",
    "b = np.array(matB, int) \n",
    "\n",
    "# output of sum, subtraction, multiplication, integer division, modulo and power\n",
    "print(a+b, a-b, a*b, a//b, a%b, a**b, sep='\\n')"
   ]
  },
  {
   "cell_type": "markdown",
   "metadata": {},
   "source": [
    "#### Floor, Ceil and Rint"
   ]
  },
  {
   "cell_type": "code",
   "execution_count": null,
   "metadata": {},
   "outputs": [],
   "source": [
    "import numpy as np\n",
    "np.set_printoptions(legacy = '1.13') # found legacy print option in discussion section\n",
    "\n",
    "a = np.array(input().split(), float)\n",
    "print(np.floor(a), np.ceil(a), np.rint(a), sep='\\n')"
   ]
  },
  {
   "cell_type": "markdown",
   "metadata": {},
   "source": [
    "##### Sum and Prod"
   ]
  },
  {
   "cell_type": "code",
   "execution_count": null,
   "metadata": {},
   "outputs": [],
   "source": [
    "import numpy\n",
    "\n",
    "N, M = map(int, input().split())\n",
    "\n",
    "mat = []\n",
    "for _ in range(N):\n",
    "    # for N times I create an array with the input line and append to a greater array    \n",
    "    mat.append(input().split())\n",
    "    \n",
    "a = numpy.array(mat, int)\n",
    "p = numpy.product(numpy.sum(a, axis = 0))\n",
    "print(p)"
   ]
  },
  {
   "cell_type": "markdown",
   "metadata": {},
   "source": [
    "##### Min and Max"
   ]
  },
  {
   "cell_type": "code",
   "execution_count": null,
   "metadata": {},
   "outputs": [],
   "source": [
    "import numpy\n",
    "\n",
    "N, M = map(int, input().split()) \n",
    "\n",
    "mat = []\n",
    "for _ in range(N):\n",
    "    # for each line of the input, I append an array to a bigger one\n",
    "    mat.append(input().split())\n",
    "\n",
    "# creation of numpy array of integers\n",
    "a = numpy.array(mat, int)\n",
    "\n",
    "# output of the overall max over the minumum on axis 1\n",
    "print(numpy.max(numpy.min(a, axis = 1)))"
   ]
  },
  {
   "cell_type": "markdown",
   "metadata": {},
   "source": [
    "##### Mean, Var, and Std"
   ]
  },
  {
   "cell_type": "code",
   "execution_count": null,
   "metadata": {},
   "outputs": [],
   "source": [
    "import numpy as np\n",
    "np.set_printoptions(legacy='1.13') # found legacy print option in discussion section\n",
    "\n",
    "N, M = map(int, input().split()) \n",
    "\n",
    "mat = []\n",
    "for _ in range(N):\n",
    "    # creation of a matrix with the lines given in input\n",
    "    mat.append(input().split())\n",
    "\n",
    "# creation of a numpy bidimensional array\n",
    "arr = np.array(mat, float)\n",
    "\n",
    "#output of mean, var and std\n",
    "print(np.mean(arr, axis = 1), np.var(arr, axis = 0), np.std(arr), sep='\\n')"
   ]
  },
  {
   "cell_type": "markdown",
   "metadata": {},
   "source": [
    "##### Dot and Cross"
   ]
  },
  {
   "cell_type": "code",
   "execution_count": null,
   "metadata": {},
   "outputs": [],
   "source": [
    "import numpy as np\n",
    "\n",
    "N = int(input())\n",
    "\n",
    "A = np.array([ input().split() for _ in range(N)], int) \n",
    "B = np.array([ input().split() for _ in range(N)], int) \n",
    "\n",
    "print(np.dot(A, B))"
   ]
  },
  {
   "cell_type": "markdown",
   "metadata": {},
   "source": [
    "##### Inner and Outer"
   ]
  },
  {
   "cell_type": "code",
   "execution_count": null,
   "metadata": {},
   "outputs": [],
   "source": [
    "import numpy as np\n",
    "\n",
    "a = np.array(input().split(), int) \n",
    "b = np.array(input().split(), int) \n",
    "\n",
    "print(np.inner(a,b), np.outer(a,b), sep='\\n')"
   ]
  },
  {
   "cell_type": "markdown",
   "metadata": {},
   "source": [
    "##### Polynomials"
   ]
  },
  {
   "cell_type": "code",
   "execution_count": null,
   "metadata": {},
   "outputs": [],
   "source": [
    "import numpy as np\n",
    "\n",
    "# getting coefficients of the polynomial and point x0 of evaluation from input\n",
    "coeff = list(map(float, input().split()))\n",
    "x0 = float(input())\n",
    "\n",
    "# calculating the value of polynomial in x0\n",
    "print(np.polyval(coeff, x0))"
   ]
  },
  {
   "cell_type": "markdown",
   "metadata": {},
   "source": [
    "##### Linear Algebra"
   ]
  },
  {
   "cell_type": "code",
   "execution_count": null,
   "metadata": {},
   "outputs": [],
   "source": [
    "import numpy as np\n",
    "np.set_printoptions(legacy='1.13') # found in the discussion section \n",
    "\n",
    "# getting the dimension of the square matrix\n",
    "N = int(input()) \n",
    "\n",
    "# getting the N lines of the matrix\n",
    "mat = []\n",
    "for _ in range(N):\n",
    "    mat.append(input().split()) \n",
    "\n",
    "# construction of the numpy array of floats\n",
    "arr = np.array(mat, float) \n",
    "\n",
    "# output of the det\n",
    "print(np.linalg.det(arr))"
   ]
  },
  {
   "cell_type": "markdown",
   "metadata": {},
   "source": [
    "---\n",
    "### Problem 2\n",
    "#### Birthday Cake Candles"
   ]
  },
  {
   "cell_type": "code",
   "execution_count": null,
   "metadata": {},
   "outputs": [],
   "source": [
    "# import os\n",
    "\n",
    "def birthdayCakeCandles(ar):\n",
    "    # sorting the array in descending order\n",
    "    ar.sort(reverse=True)    \n",
    "\n",
    "    # finding the max    \n",
    "    nmax = max(ar)\n",
    "\n",
    "    count = 1 # one candle can always be blown\n",
    "           \n",
    "    for i in range(1, ar_count):\n",
    "        if ar[i] == nmax:\n",
    "            count += 1\n",
    "        else:\n",
    "            break\n",
    "    return(count)       \n",
    "\n",
    "if __name__ == '__main__':\n",
    "    # I commented out the fptr part, used in Hackerrank, to make the code executable in Jupyter\n",
    "    #fptr = open(os.environ['OUTPUT_PATH'], 'w')\n",
    "    ar_count = int(input())\n",
    "    ar = list(map(int, input().rstrip().split()))    \n",
    "    result = birthdayCakeCandles(ar)\n",
    "    print(result)\n",
    "    #fptr.write(str(result) + '\\n')\n",
    "    #fptr.close()"
   ]
  },
  {
   "cell_type": "markdown",
   "metadata": {},
   "source": [
    "#### Kangaroo"
   ]
  },
  {
   "cell_type": "code",
   "execution_count": null,
   "metadata": {},
   "outputs": [],
   "source": [
    "import math\n",
    "import os\n",
    "import random\n",
    "import re\n",
    "import sys\n",
    "\n",
    "# Complete the kangaroo function below.\n",
    "def kangaroo(x1, v1, x2, v2):\n",
    "    # meeting time: t=x2-x1/v1-v2\n",
    "    deltaX = x2 - x1\n",
    "    deltaV = v1 - v2\n",
    "\n",
    "    if deltaV == 0: # same v - they won't ever meet\n",
    "        return 'NO'\n",
    "    elif deltaX / deltaV > 0 and deltaX % deltaV == 0:\n",
    "        # they will meet at positive and integer time t\n",
    "        return 'YES'\n",
    "    else: \n",
    "        return 'NO'\n",
    "\n",
    "if __name__ == '__main__':\n",
    "    # I commented out the fptr part, used in Hackerrank, to make the code executable within Jupyter\n",
    "    #fptr = open(os.environ['OUTPUT_PATH'], 'w')\n",
    "    x1V1X2V2 = input().split()\n",
    "    x1 = int(x1V1X2V2[0])\n",
    "    v1 = int(x1V1X2V2[1])\n",
    "    x2 = int(x1V1X2V2[2])\n",
    "    v2 = int(x1V1X2V2[3])\n",
    "    result = kangaroo(x1, v1, x2, v2)\n",
    "    print(result)\n",
    "    #fptr.write(result + '\\n')\n",
    "    #fptr.close()"
   ]
  },
  {
   "cell_type": "markdown",
   "metadata": {},
   "source": [
    "#### Viral Advertising (strange-advertising)"
   ]
  },
  {
   "cell_type": "code",
   "execution_count": null,
   "metadata": {},
   "outputs": [],
   "source": [
    "#!/bin/python3\n",
    "\n",
    "import math\n",
    "import os\n",
    "import random\n",
    "import re\n",
    "import sys\n",
    "\n",
    "# Complete the viralAdvertising function below.\n",
    "def viralAdvertising(n):\n",
    "    shared = 5\n",
    "    liked = 0\n",
    "    cumul = 0\n",
    "    for i in range(n):\n",
    "        liked = math.floor(shared / 2)\n",
    "        shared = liked * 3\n",
    "        cumul += liked\n",
    "        # print(\"shared\", shared, \"liked\", liked, \"cumul\", cumul)\n",
    "    return cumul\n",
    "\n",
    "\n",
    "if __name__ == '__main__':\n",
    "    # I commented out the fptr part, used in Hackerrank, to make the code executable within Jupyter\n",
    "    # fptr = open(os.environ['OUTPUT_PATH'], 'w')\n",
    "    n = int(input())\n",
    "    result = viralAdvertising(n)\n",
    "    print(result)\n",
    "    #fptr.write(str(result) + '\\n')\n",
    "    #fptr.close()"
   ]
  },
  {
   "cell_type": "markdown",
   "metadata": {},
   "source": [
    "#### Recursive Digit Sum"
   ]
  },
  {
   "cell_type": "code",
   "execution_count": null,
   "metadata": {},
   "outputs": [],
   "source": [
    "#!/bin/python3\n",
    "\n",
    "import math\n",
    "import os\n",
    "import random\n",
    "import re\n",
    "import sys\n",
    "\n",
    "def superDigit(n, k):\n",
    "    sd = k * sumDigit(n)\n",
    "    while sd > 9:\n",
    "        sd = sumDigit(sd)\n",
    "    return sd\n",
    "\n",
    "def sumDigit(num):\n",
    "    m_sum = 0\n",
    "    numStr = str(num)\n",
    "    for cifra in numStr:\n",
    "        m_sum += int(cifra)\n",
    "    return m_sum \n",
    "\n",
    "if __name__ == '__main__':\n",
    "    #fptr = open(os.environ['OUTPUT_PATH'], 'w')\n",
    "    nk = input().split()\n",
    "    n = nk[0]\n",
    "    k = int(nk[1])\n",
    "    result = superDigit(n, k)\n",
    "    print(result)\n",
    "    #fptr.write(str(result) + '\\n')\n",
    "    #fptr.close()"
   ]
  },
  {
   "cell_type": "markdown",
   "metadata": {},
   "source": [
    "#### Insertion Sort - Part 1"
   ]
  },
  {
   "cell_type": "code",
   "execution_count": null,
   "metadata": {},
   "outputs": [],
   "source": [
    "def insertionSort1(n, arr):\n",
    "    temp = arr[-1] # number to sort\n",
    "    for i in range(n - 2, -1, -1):\n",
    "        if arr[i] > temp:\n",
    "            arr[i+1] = arr[i]\n",
    "            print(*arr)\n",
    "            if i == 0:\n",
    "                arr[i] = temp\n",
    "                print(*arr)\n",
    "        else:\n",
    "            arr[i+1] = temp            \n",
    "            print(*arr)\n",
    "            break\n",
    "\n",
    "if __name__ == '__main__':\n",
    "    n = int(input())\n",
    "    arr = list(map(int, input().rstrip().split()))\n",
    "    insertionSort1(n, arr)"
   ]
  },
  {
   "cell_type": "markdown",
   "metadata": {},
   "source": [
    "#### Insertion Sort - Part 2"
   ]
  },
  {
   "cell_type": "code",
   "execution_count": null,
   "metadata": {},
   "outputs": [],
   "source": [
    "def insertionSort2(n, arr):        \n",
    "    for i in range(1, n):        \n",
    "        temp = arr[i]        \n",
    "        for j in range(i - 1, -1, -1):\n",
    "            if arr[j] > temp:\n",
    "                arr[j+1] = arr[j]                \n",
    "                if j == 0:\n",
    "                    arr[j] = temp                    \n",
    "            else:\n",
    "                arr[j+1] = temp\n",
    "                break\n",
    "        print(*arr)\n",
    "\n",
    "if __name__ == '__main__':\n",
    "    n = int(input())\n",
    "    arr = list(map(int, input().rstrip().split()))\n",
    "    insertionSort2(n, arr)"
   ]
  }
 ],
 "metadata": {
  "kernelspec": {
   "display_name": "Python 3",
   "language": "python",
   "name": "python3"
  },
  "language_info": {
   "codemirror_mode": {
    "name": "ipython",
    "version": 3
   },
   "file_extension": ".py",
   "mimetype": "text/x-python",
   "name": "python",
   "nbconvert_exporter": "python",
   "pygments_lexer": "ipython3",
   "version": "3.7.3"
  }
 },
 "nbformat": 4,
 "nbformat_minor": 2
}
